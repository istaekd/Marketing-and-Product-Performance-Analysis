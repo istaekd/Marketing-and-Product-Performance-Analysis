{
 "cells": [
  {
   "cell_type": "code",
   "execution_count": 3,
   "id": "c4682b76",
   "metadata": {
    "_cell_guid": "b1076dfc-b9ad-4769-8c92-a6c4dae69d19",
    "_uuid": "8f2839f25d086af736a60e9eeb907d3b93b6e0e5",
    "execution": {
     "iopub.execute_input": "2024-12-24T06:59:18.261279Z",
     "iopub.status.busy": "2024-12-24T06:59:18.260734Z",
     "iopub.status.idle": "2024-12-24T06:59:19.28352Z",
     "shell.execute_reply": "2024-12-24T06:59:19.282447Z"
    },
    "papermill": {
     "duration": 1.029721,
     "end_time": "2024-12-24T06:59:19.286133",
     "exception": false,
     "start_time": "2024-12-24T06:59:18.256412",
     "status": "completed"
    },
    "tags": []
   },
   "outputs": [],
   "source": [
    "import pandas as pd\n",
    "df = pd.read_csv('Dataset/marketing_and_product_performance.csv')"
   ]
  },
  {
   "cell_type": "code",
   "execution_count": 4,
   "id": "35a008b9",
   "metadata": {
    "execution": {
     "iopub.execute_input": "2024-12-24T06:59:19.291644Z",
     "iopub.status.busy": "2024-12-24T06:59:19.291244Z",
     "iopub.status.idle": "2024-12-24T06:59:19.297691Z",
     "shell.execute_reply": "2024-12-24T06:59:19.296628Z"
    },
    "papermill": {
     "duration": 0.011878,
     "end_time": "2024-12-24T06:59:19.300045",
     "exception": false,
     "start_time": "2024-12-24T06:59:19.288167",
     "status": "completed"
    },
    "tags": []
   },
   "outputs": [
    {
     "name": "stdout",
     "output_type": "stream",
     "text": [
      "Max rows in the dataset: 60\n",
      "Max columns in the dataset: 20\n"
     ]
    }
   ],
   "source": [
    "maxrow = pd.options.display.max_rows\n",
    "maxcolumn = pd.options.display.max_columns\n",
    "\n",
    "print(f\"Max rows in the dataset: {maxrow}\\nMax columns in the dataset: {maxcolumn}\")"
   ]
  },
  {
   "cell_type": "code",
   "execution_count": 9,
   "id": "a8e3578d",
   "metadata": {
    "execution": {
     "iopub.execute_input": "2024-12-24T06:59:19.305339Z",
     "iopub.status.busy": "2024-12-24T06:59:19.30497Z",
     "iopub.status.idle": "2024-12-24T06:59:19.316311Z",
     "shell.execute_reply": "2024-12-24T06:59:19.315035Z"
    },
    "papermill": {
     "duration": 0.016473,
     "end_time": "2024-12-24T06:59:19.318453",
     "exception": false,
     "start_time": "2024-12-24T06:59:19.30198",
     "status": "completed"
    },
    "tags": []
   },
   "outputs": [],
   "source": [
    "maximum_units_sold = df[\"Units_Sold\"].max()\n",
    "total_maximum_units_sold = df[\"Units_Sold\"].value_counts().get(maximum_units_sold, 0)"
   ]
  },
  {
   "cell_type": "code",
   "execution_count": 10,
   "id": "6c360d7c",
   "metadata": {},
   "outputs": [
    {
     "name": "stdout",
     "output_type": "stream",
     "text": [
      "57\n"
     ]
    }
   ],
   "source": [
    "print(total_maximum_units_sold)"
   ]
  }
 ],
 "metadata": {
  "kaggle": {
   "accelerator": "none",
   "dataSources": [
    {
     "datasetId": 6255880,
     "sourceId": 10136320,
     "sourceType": "datasetVersion"
    }
   ],
   "dockerImageVersionId": 30804,
   "isGpuEnabled": false,
   "isInternetEnabled": false,
   "language": "python",
   "sourceType": "notebook"
  },
  "kernelspec": {
   "display_name": "major2career",
   "language": "python",
   "name": "python3"
  },
  "language_info": {
   "codemirror_mode": {
    "name": "ipython",
    "version": 3
   },
   "file_extension": ".py",
   "mimetype": "text/x-python",
   "name": "python",
   "nbconvert_exporter": "python",
   "pygments_lexer": "ipython3",
   "version": "3.13.0"
  },
  "papermill": {
   "default_parameters": {},
   "duration": 4.916781,
   "end_time": "2024-12-24T06:59:19.842346",
   "environment_variables": {},
   "exception": null,
   "input_path": "__notebook__.ipynb",
   "output_path": "__notebook__.ipynb",
   "parameters": {},
   "start_time": "2024-12-24T06:59:14.925565",
   "version": "2.6.0"
  }
 },
 "nbformat": 4,
 "nbformat_minor": 5
}
